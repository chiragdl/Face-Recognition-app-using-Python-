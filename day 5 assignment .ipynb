{
 "cells": [
  {
   "cell_type": "code",
   "execution_count": 1,
   "id": "efdef9cb",
   "metadata": {},
   "outputs": [],
   "source": [
    "import cv2\n",
    "import numpy as np\n",
    "import face_recognition"
   ]
  },
  {
   "cell_type": "code",
   "execution_count": 2,
   "id": "a5bfe4ea",
   "metadata": {},
   "outputs": [],
   "source": [
    "chirag = face_recognition.load_image_file('D:\\pics\\chirag.jpg')\n",
    "chirag_encodings = face_recognition.face_encodings(chirag)[0]\n",
    "chirag = cv2.resize(chirag , (400 , 400))\n",
    "\n",
    "\n",
    "shreya = face_recognition.load_image_file('D:\\pics\\shreya.jpeg')\n",
    "shreya_encodings = face_recognition.face_encodings(shreya)[0]\n",
    "shreya = cv2.resize(shreya , (400 , 400))"
   ]
  },
  {
   "cell_type": "code",
   "execution_count": 3,
   "id": "d729f7a3",
   "metadata": {},
   "outputs": [],
   "source": [
    "known_face_encodings = [chirag_encodings, shreya_encodings]\n",
    "\n",
    "known_face_names = [\"Chirag\", \"shreya\"]"
   ]
  },
  {
   "cell_type": "code",
   "execution_count": 4,
   "id": "2c9a3672",
   "metadata": {},
   "outputs": [
    {
     "name": "stdout",
     "output_type": "stream",
     "text": [
      "['Chirag']\n",
      "['Chirag']\n",
      "['Chirag']\n",
      "['Chirag']\n",
      "['Chirag']\n",
      "['Chirag']\n",
      "['Chirag']\n",
      "['Chirag']\n",
      "['Chirag']\n",
      "['Chirag']\n",
      "['Chirag']\n",
      "['Chirag']\n",
      "['Chirag']\n",
      "['Chirag']\n",
      "['Chirag']\n",
      "['Chirag']\n",
      "['Chirag']\n",
      "['Chirag']\n",
      "['shreya']\n",
      "['shreya']\n",
      "['shreya']\n",
      "['shreya']\n",
      "['shreya']\n",
      "['shreya']\n",
      "['shreya']\n",
      "['shreya']\n",
      "['shreya']\n",
      "['shreya']\n",
      "['shreya']\n",
      "['Chirag']\n",
      "['Chirag']\n",
      "['Chirag']\n",
      "['Chirag']\n",
      "['Chirag']\n",
      "['Chirag']\n",
      "['Chirag']\n",
      "['Chirag']\n",
      "['Chirag']\n",
      "['Chirag']\n",
      "['Chirag']\n",
      "['Chirag']\n",
      "['Chirag']\n"
     ]
    },
    {
     "ename": "AttributeError",
     "evalue": "module 'cv2.cv2' has no attribute 'waitKeyAllWindows'",
     "output_type": "error",
     "traceback": [
      "\u001b[1;31m---------------------------------------------------------------------------\u001b[0m",
      "\u001b[1;31mAttributeError\u001b[0m                            Traceback (most recent call last)",
      "\u001b[1;32m<ipython-input-4-2151836c7ff1>\u001b[0m in \u001b[0;36m<module>\u001b[1;34m\u001b[0m\n\u001b[0;32m     39\u001b[0m \u001b[1;33m\u001b[0m\u001b[0m\n\u001b[0;32m     40\u001b[0m \u001b[0mcap\u001b[0m\u001b[1;33m.\u001b[0m\u001b[0mrelease\u001b[0m\u001b[1;33m(\u001b[0m\u001b[1;33m)\u001b[0m\u001b[1;33m\u001b[0m\u001b[1;33m\u001b[0m\u001b[0m\n\u001b[1;32m---> 41\u001b[1;33m \u001b[0mcv2\u001b[0m\u001b[1;33m.\u001b[0m\u001b[0mwaitKeyAllWindows\u001b[0m\u001b[1;33m(\u001b[0m\u001b[1;33m)\u001b[0m\u001b[1;33m\u001b[0m\u001b[1;33m\u001b[0m\u001b[0m\n\u001b[0m",
      "\u001b[1;31mAttributeError\u001b[0m: module 'cv2.cv2' has no attribute 'waitKeyAllWindows'"
     ]
    }
   ],
   "source": [
    "cap = cv2.VideoCapture(0)\n",
    "\n",
    "while cap.isOpened():\n",
    "    flag , frame = cap.read()\n",
    "    if not flag:\n",
    "        print(\"Cannot access camera\")\n",
    "        break\n",
    "    small_frame = cv2.resize(frame , (0,0) ,fx=1/4 , fy=1/4)\n",
    "    rgb_small_frame = cv2.cvtColor(small_frame, cv2.COLOR_BGR2RGB)\n",
    "    face_locations = face_recognition.face_locations(rgb_small_frame)\n",
    "    face_encodings = face_recognition.face_encodings(rgb_small_frame, face_locations)\n",
    "    \n",
    "    \n",
    "    face_names = []\n",
    "    for face_encoding in face_encodings:\n",
    "        matches = face_recognition.compare_faces(known_face_encodings, face_encoding)\n",
    "        name = \"Unknown\"\n",
    "        face_distances = face_recognition.face_distance(known_face_encodings, face_encoding)\n",
    "        best_match_index = np.argmin(face_distances)\n",
    "        if matches[best_match_index]:\n",
    "            name = known_face_names[best_match_index]\n",
    "        face_names.append(name)\n",
    "         \n",
    "        print(face_names)\n",
    "    for(top, right, bottom, left), name in zip(face_locations, face_names):\n",
    "        top *= 4\n",
    "        right *= 4\n",
    "        bottom *= 4\n",
    "        left *= 4\n",
    "        cv2.rectangle(frame, (left, top), (right, bottom), (0, 0, 255), 2)\n",
    "        cv2.rectangle(frame, (left, bottom - 35), (right, bottom), (0, 0, 255), cv2.FILLED)\n",
    "        font = cv2.FONT_HERSHEY_DUPLEX\n",
    "        cv2.putText(frame, name, (left + 6, bottom - 6), font, 1.0, (255, 255, 255), 1)\n",
    "    \n",
    "    \n",
    "    cv2.imshow(\"frames\" , frame)\n",
    "    if cv2.waitKey(1) & 0xff == ord('q'):\n",
    "        break\n",
    "        \n",
    "cap.release()\n",
    "cv2.destroyAllWindows()"
   ]
  },
  {
   "cell_type": "code",
   "execution_count": null,
   "id": "899894cd",
   "metadata": {},
   "outputs": [],
   "source": []
  }
 ],
 "metadata": {
  "kernelspec": {
   "display_name": "Python 3",
   "language": "python",
   "name": "python3"
  },
  "language_info": {
   "codemirror_mode": {
    "name": "ipython",
    "version": 3
   },
   "file_extension": ".py",
   "mimetype": "text/x-python",
   "name": "python",
   "nbconvert_exporter": "python",
   "pygments_lexer": "ipython3",
   "version": "3.8.8"
  }
 },
 "nbformat": 4,
 "nbformat_minor": 5
}
