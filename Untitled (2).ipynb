{
 "cells": [
  {
   "cell_type": "markdown",
   "id": "7eb4fe30",
   "metadata": {},
   "source": [
    "## Image blending  assignmnet day 3 ."
   ]
  },
  {
   "cell_type": "code",
   "execution_count": 24,
   "id": "0493ea32",
   "metadata": {},
   "outputs": [
    {
     "name": "stdout",
     "output_type": "stream",
     "text": [
      "enter a choice: 6\n"
     ]
    }
   ],
   "source": [
    "import cv2\n",
    "\n",
    "cap = cv2.VideoCapture(0)\n",
    "img1 = cv2.imread('ironman.jpg')\n",
    "img2 = cv2.imread('backroundimage.jpg')\n",
    "img3 = cv2.imread('chris-hemsworth.webp')\n",
    "img4 = cv2.imread('Chris-Evans.jpg')\n",
    "img5 = cv2.imread('jetalal.jpg')\n",
    "img6 = cv2.imread('loki.jpg')\n",
    "\n",
    "ch = int(input(\"enter a choice: \"))\n",
    "\n",
    "while True:\n",
    "    flag , frame = cap.read()\n",
    "    if not flag:\n",
    "        print(\"could not access camera\")\n",
    "        break\n",
    "     \n",
    "    else: \n",
    "        if ch == 1:\n",
    "            img1 = cv2.resize(img1 , (frame.shape[1] , frame.shape[0]))\n",
    "            blended_frame1 = cv2.addWeighted(frame , 0.8 , img1, 0.2 , gamma=0.1)\n",
    "            cv2.imshow('blended_frame',blended_frame1)\n",
    "            if cv2.waitKey(10) & 0xff == ord ('q'):\n",
    "                break\n",
    "                \n",
    "        if ch == 2:\n",
    "            img2 = cv2.resize(img2 , (frame.shape[1] , frame.shape[0]))\n",
    "            blended_frame2 = cv2.addWeighted(frame , 0.8 , img2, 0.2 , gamma=0.1)\n",
    "            cv2.imshow('blended_frame',blended_frame2)\n",
    "            if cv2.waitKey(10) & 0xff == ord ('q'):\n",
    "                break\n",
    "                \n",
    "        if ch == 3:\n",
    "            img3 = cv2.resize(img3 , (frame.shape[1] , frame.shape[0]))\n",
    "            blended_frame3 = cv2.addWeighted(frame , 0.8 , img3, 0.2 , gamma=0.1)\n",
    "            cv2.imshow('blended_frame',blended_frame3)\n",
    "            if cv2.waitKey(10) & 0xff == ord ('q'):\n",
    "                break\n",
    "        if ch == 4:\n",
    "            img4 = cv2.resize(img4 , (frame.shape[1] , frame.shape[0]))\n",
    "            blended_frame4 = cv2.addWeighted(frame , 0.8 , img4, 0.2 , gamma=0.1)\n",
    "            cv2.imshow('blended_frame',blended_frame4)\n",
    "            if cv2.waitKey(10) & 0xff == ord ('q'):\n",
    "                break\n",
    "        if ch == 5:\n",
    "            img5 = cv2.resize(img5 , (frame.shape[1] , frame.shape[0]))\n",
    "            blended_frame5 = cv2.addWeighted(frame , 0.8 , img5, 0.2 , gamma=0.1)\n",
    "            cv2.imshow('blended_frame',blended_frame5)\n",
    "            if cv2.waitKey(10) & 0xff == ord ('q'):\n",
    "                break\n",
    "                \n",
    "        if ch == 6:\n",
    "            img6 = cv2.resize(img6 , (frame.shape[1] , frame.shape[0]))\n",
    "            blended_frame6 = cv2.addWeighted(frame , 0.8 , img6, 0.2 , gamma=0.1)\n",
    "            cv2.imshow('blended_frame',blended_frame6)\n",
    "            if cv2.waitKey(10) & 0xff == ord ('q'):\n",
    "                break\n",
    "            \n",
    "                    \n",
    "    \n",
    "\n",
    "        \n",
    "cap.release()\n",
    "cv2.destroyAllWindows()"
   ]
  },
  {
   "cell_type": "code",
   "execution_count": null,
   "id": "95b2f1c0",
   "metadata": {},
   "outputs": [],
   "source": []
  }
 ],
 "metadata": {
  "kernelspec": {
   "display_name": "Python 3",
   "language": "python",
   "name": "python3"
  },
  "language_info": {
   "codemirror_mode": {
    "name": "ipython",
    "version": 3
   },
   "file_extension": ".py",
   "mimetype": "text/x-python",
   "name": "python",
   "nbconvert_exporter": "python",
   "pygments_lexer": "ipython3",
   "version": "3.8.8"
  }
 },
 "nbformat": 4,
 "nbformat_minor": 5
}
